{
 "cells": [
  {
   "cell_type": "markdown",
   "id": "708af725",
   "metadata": {},
   "source": [
    "# Imports"
   ]
  },
  {
   "cell_type": "code",
   "execution_count": 1,
   "id": "02c0cd73",
   "metadata": {},
   "outputs": [],
   "source": [
    "import pandas as pd\n",
    "from sqlalchemy import create_engine\n",
    "import json"
   ]
  },
  {
   "cell_type": "markdown",
   "id": "c53d985e",
   "metadata": {},
   "source": [
    "# Read the file"
   ]
  },
  {
   "cell_type": "code",
   "execution_count": 2,
   "id": "09defb48",
   "metadata": {},
   "outputs": [],
   "source": [
    "products = pd.read_csv(\"..\\..\\data\\products.csv\")"
   ]
  },
  {
   "cell_type": "code",
   "execution_count": 3,
   "id": "c2593a2f",
   "metadata": {},
   "outputs": [
    {
     "data": {
      "text/plain": [
       "(500000, 3)"
      ]
     },
     "execution_count": 3,
     "metadata": {},
     "output_type": "execute_result"
    }
   ],
   "source": [
    "products.shape"
   ]
  },
  {
   "cell_type": "code",
   "execution_count": 4,
   "id": "cb1dd33b",
   "metadata": {},
   "outputs": [
    {
     "data": {
      "text/html": [
       "<div>\n",
       "<style scoped>\n",
       "    .dataframe tbody tr th:only-of-type {\n",
       "        vertical-align: middle;\n",
       "    }\n",
       "\n",
       "    .dataframe tbody tr th {\n",
       "        vertical-align: top;\n",
       "    }\n",
       "\n",
       "    .dataframe thead th {\n",
       "        text-align: right;\n",
       "    }\n",
       "</style>\n",
       "<table border=\"1\" class=\"dataframe\">\n",
       "  <thead>\n",
       "    <tr style=\"text-align: right;\">\n",
       "      <th></th>\n",
       "      <th>name</th>\n",
       "      <th>sku</th>\n",
       "      <th>description</th>\n",
       "    </tr>\n",
       "  </thead>\n",
       "  <tbody>\n",
       "    <tr>\n",
       "      <th>0</th>\n",
       "      <td>Bryce Jones</td>\n",
       "      <td>lay-raise-best-end</td>\n",
       "      <td>Art community floor adult your single type. Pe...</td>\n",
       "    </tr>\n",
       "    <tr>\n",
       "      <th>1</th>\n",
       "      <td>John Robinson</td>\n",
       "      <td>cup-return-guess</td>\n",
       "      <td>Produce successful hot tree past action young ...</td>\n",
       "    </tr>\n",
       "    <tr>\n",
       "      <th>2</th>\n",
       "      <td>Theresa Taylor</td>\n",
       "      <td>step-onto</td>\n",
       "      <td>Choice should lead budget task. Author best me...</td>\n",
       "    </tr>\n",
       "    <tr>\n",
       "      <th>3</th>\n",
       "      <td>Roger Huerta</td>\n",
       "      <td>citizen-some-middle</td>\n",
       "      <td>Important fight wrong position fine. Friend so...</td>\n",
       "    </tr>\n",
       "    <tr>\n",
       "      <th>4</th>\n",
       "      <td>John Buckley</td>\n",
       "      <td>term-important</td>\n",
       "      <td>Alone maybe education risk despite way.\\nWant ...</td>\n",
       "    </tr>\n",
       "  </tbody>\n",
       "</table>\n",
       "</div>"
      ],
      "text/plain": [
       "             name                  sku  \\\n",
       "0     Bryce Jones   lay-raise-best-end   \n",
       "1   John Robinson     cup-return-guess   \n",
       "2  Theresa Taylor            step-onto   \n",
       "3    Roger Huerta  citizen-some-middle   \n",
       "4    John Buckley       term-important   \n",
       "\n",
       "                                         description  \n",
       "0  Art community floor adult your single type. Pe...  \n",
       "1  Produce successful hot tree past action young ...  \n",
       "2  Choice should lead budget task. Author best me...  \n",
       "3  Important fight wrong position fine. Friend so...  \n",
       "4  Alone maybe education risk despite way.\\nWant ...  "
      ]
     },
     "execution_count": 4,
     "metadata": {},
     "output_type": "execute_result"
    }
   ],
   "source": [
    "products.head()"
   ]
  },
  {
   "cell_type": "code",
   "execution_count": 30,
   "id": "ade565e6",
   "metadata": {},
   "outputs": [],
   "source": [
    "products.loc[0, :] = ['Bryce Jobes', 'lay-raise-best-end', products.loc[0, 'description']]"
   ]
  },
  {
   "cell_type": "code",
   "execution_count": 31,
   "id": "ae1edb7d",
   "metadata": {},
   "outputs": [
    {
     "data": {
      "text/html": [
       "<div>\n",
       "<style scoped>\n",
       "    .dataframe tbody tr th:only-of-type {\n",
       "        vertical-align: middle;\n",
       "    }\n",
       "\n",
       "    .dataframe tbody tr th {\n",
       "        vertical-align: top;\n",
       "    }\n",
       "\n",
       "    .dataframe thead th {\n",
       "        text-align: right;\n",
       "    }\n",
       "</style>\n",
       "<table border=\"1\" class=\"dataframe\">\n",
       "  <thead>\n",
       "    <tr style=\"text-align: right;\">\n",
       "      <th></th>\n",
       "      <th>name</th>\n",
       "      <th>sku</th>\n",
       "      <th>description</th>\n",
       "    </tr>\n",
       "  </thead>\n",
       "  <tbody>\n",
       "    <tr>\n",
       "      <th>0</th>\n",
       "      <td>Bryce Jobes</td>\n",
       "      <td>lay-raise-best-end</td>\n",
       "      <td>Art community floor adult your single type. Pe...</td>\n",
       "    </tr>\n",
       "    <tr>\n",
       "      <th>1</th>\n",
       "      <td>John Robinson</td>\n",
       "      <td>cup-return-guess</td>\n",
       "      <td>Produce successful hot tree past action young ...</td>\n",
       "    </tr>\n",
       "    <tr>\n",
       "      <th>2</th>\n",
       "      <td>Theresa Taylor</td>\n",
       "      <td>step-onto</td>\n",
       "      <td>Choice should lead budget task. Author best me...</td>\n",
       "    </tr>\n",
       "    <tr>\n",
       "      <th>3</th>\n",
       "      <td>Roger Huerta</td>\n",
       "      <td>citizen-some-middle</td>\n",
       "      <td>Important fight wrong position fine. Friend so...</td>\n",
       "    </tr>\n",
       "    <tr>\n",
       "      <th>5</th>\n",
       "      <td>Tiffany Johnson</td>\n",
       "      <td>do-many-avoid</td>\n",
       "      <td>Born tree wind.\\nBoy marriage begin value. Rec...</td>\n",
       "    </tr>\n",
       "  </tbody>\n",
       "</table>\n",
       "</div>"
      ],
      "text/plain": [
       "              name                  sku  \\\n",
       "0      Bryce Jobes   lay-raise-best-end   \n",
       "1    John Robinson     cup-return-guess   \n",
       "2   Theresa Taylor            step-onto   \n",
       "3     Roger Huerta  citizen-some-middle   \n",
       "5  Tiffany Johnson        do-many-avoid   \n",
       "\n",
       "                                         description  \n",
       "0  Art community floor adult your single type. Pe...  \n",
       "1  Produce successful hot tree past action young ...  \n",
       "2  Choice should lead budget task. Author best me...  \n",
       "3  Important fight wrong position fine. Friend so...  \n",
       "5  Born tree wind.\\nBoy marriage begin value. Rec...  "
      ]
     },
     "execution_count": 31,
     "metadata": {},
     "output_type": "execute_result"
    }
   ],
   "source": [
    "products.head()"
   ]
  },
  {
   "cell_type": "markdown",
   "id": "f766914d",
   "metadata": {},
   "source": [
    "# Processing"
   ]
  },
  {
   "cell_type": "markdown",
   "id": "5a1882b7",
   "metadata": {},
   "source": [
    "Given that \"sku\" is not unique but is to be considered as primary key:\n",
    "Assumption: We are following SCD 1 keeping the last record in file"
   ]
  },
  {
   "cell_type": "code",
   "execution_count": 5,
   "id": "aff3ef20",
   "metadata": {},
   "outputs": [],
   "source": [
    "products.drop_duplicates(subset=['sku'],keep='last',inplace=True)"
   ]
  },
  {
   "cell_type": "code",
   "execution_count": 6,
   "id": "30a9d3f6",
   "metadata": {},
   "outputs": [
    {
     "data": {
      "text/plain": [
       "(466693, 3)"
      ]
     },
     "execution_count": 6,
     "metadata": {},
     "output_type": "execute_result"
    }
   ],
   "source": [
    "products.shape"
   ]
  },
  {
   "cell_type": "markdown",
   "id": "a4bedfca",
   "metadata": {},
   "source": [
    "## Read Config"
   ]
  },
  {
   "cell_type": "code",
   "execution_count": 13,
   "id": "0e0b331e",
   "metadata": {},
   "outputs": [],
   "source": [
    "with open('../../config/config.json') as fp:\n",
    "    config = json.load(fp)\n",
    "# config"
   ]
  },
  {
   "cell_type": "markdown",
   "id": "77141a12",
   "metadata": {},
   "source": [
    "##  Create engine"
   ]
  },
  {
   "cell_type": "code",
   "execution_count": 14,
   "id": "b9646f18",
   "metadata": {},
   "outputs": [],
   "source": [
    "engine=create_engine(config['connection_strings']['dummy'])"
   ]
  },
  {
   "cell_type": "code",
   "execution_count": 11,
   "id": "67d2dc0b",
   "metadata": {},
   "outputs": [],
   "source": [
    "query = \"\"\"select * from products where sku in %s\"\"\" % str(tuple(products.sku.tolist()))"
   ]
  },
  {
   "cell_type": "code",
   "execution_count": 18,
   "id": "66aa8357",
   "metadata": {},
   "outputs": [],
   "source": [
    "from datetime import datetime"
   ]
  },
  {
   "cell_type": "code",
   "execution_count": 19,
   "id": "e1d0f47d",
   "metadata": {},
   "outputs": [
    {
     "data": {
      "text/plain": [
       "datetime.timedelta(seconds=107, microseconds=317346)"
      ]
     },
     "execution_count": 19,
     "metadata": {},
     "output_type": "execute_result"
    }
   ],
   "source": [
    "start = datetime.now()\n",
    "existing_data = pd.read_sql(sql=query, con=engine)\n",
    "end = datetime.now()\n",
    "end - start"
   ]
  },
  {
   "cell_type": "code",
   "execution_count": 23,
   "id": "8d227420",
   "metadata": {},
   "outputs": [],
   "source": [
    "new_products = products.loc[~products['sku'].isin(existing_data['sku'])]"
   ]
  },
  {
   "cell_type": "code",
   "execution_count": 27,
   "id": "7101c8ce",
   "metadata": {},
   "outputs": [],
   "source": [
    "_procducts = products.loc[products['sku'].isin(existing_data['sku'])]"
   ]
  },
  {
   "cell_type": "code",
   "execution_count": 24,
   "id": "42ef09d1",
   "metadata": {},
   "outputs": [
    {
     "data": {
      "text/plain": [
       "Index(['name', 'sku', 'description'], dtype='object')"
      ]
     },
     "execution_count": 24,
     "metadata": {},
     "output_type": "execute_result"
    }
   ],
   "source": [
    "products.columns"
   ]
  },
  {
   "cell_type": "code",
   "execution_count": 32,
   "id": "16127fad",
   "metadata": {},
   "outputs": [],
   "source": [
    "updated_products = products.loc[(products['name']!=_procducts['name'])|(products['description']!=_procducts['description'])]"
   ]
  },
  {
   "cell_type": "code",
   "execution_count": 33,
   "id": "0e82370a",
   "metadata": {},
   "outputs": [
    {
     "data": {
      "text/html": [
       "<div>\n",
       "<style scoped>\n",
       "    .dataframe tbody tr th:only-of-type {\n",
       "        vertical-align: middle;\n",
       "    }\n",
       "\n",
       "    .dataframe tbody tr th {\n",
       "        vertical-align: top;\n",
       "    }\n",
       "\n",
       "    .dataframe thead th {\n",
       "        text-align: right;\n",
       "    }\n",
       "</style>\n",
       "<table border=\"1\" class=\"dataframe\">\n",
       "  <thead>\n",
       "    <tr style=\"text-align: right;\">\n",
       "      <th></th>\n",
       "      <th>name</th>\n",
       "      <th>sku</th>\n",
       "      <th>description</th>\n",
       "    </tr>\n",
       "  </thead>\n",
       "  <tbody>\n",
       "    <tr>\n",
       "      <th>0</th>\n",
       "      <td>Bryce Jobes</td>\n",
       "      <td>lay-raise-best-end</td>\n",
       "      <td>Art community floor adult your single type. Pe...</td>\n",
       "    </tr>\n",
       "  </tbody>\n",
       "</table>\n",
       "</div>"
      ],
      "text/plain": [
       "          name                 sku  \\\n",
       "0  Bryce Jobes  lay-raise-best-end   \n",
       "\n",
       "                                         description  \n",
       "0  Art community floor adult your single type. Pe...  "
      ]
     },
     "execution_count": 33,
     "metadata": {},
     "output_type": "execute_result"
    }
   ],
   "source": [
    "updated_products"
   ]
  },
  {
   "cell_type": "markdown",
   "id": "f527347d",
   "metadata": {},
   "source": [
    "# Load"
   ]
  },
  {
   "cell_type": "markdown",
   "id": "cb76d60d",
   "metadata": {},
   "source": [
    "## Read Config"
   ]
  },
  {
   "cell_type": "code",
   "execution_count": 7,
   "id": "5f9f850d",
   "metadata": {},
   "outputs": [],
   "source": [
    "with open('../../config/config.json') as fp:\n",
    "    config = json.load(fp)\n",
    "# config"
   ]
  },
  {
   "cell_type": "markdown",
   "id": "31b9b73d",
   "metadata": {},
   "source": [
    "##  Create engine"
   ]
  },
  {
   "cell_type": "code",
   "execution_count": 34,
   "id": "f0152a13",
   "metadata": {},
   "outputs": [],
   "source": [
    "engine=create_engine(config['connection_strings']['dummy'])"
   ]
  },
  {
   "cell_type": "markdown",
   "id": "40e96390",
   "metadata": {},
   "source": [
    "# Insert data"
   ]
  },
  {
   "cell_type": "code",
   "execution_count": 51,
   "id": "a4598821",
   "metadata": {},
   "outputs": [],
   "source": [
    "    update_query = \"\""
   ]
  },
  {
   "cell_type": "code",
   "execution_count": 52,
   "id": "18520409",
   "metadata": {},
   "outputs": [],
   "source": [
    "for i in range(updated_products.shape[0]):\n",
    "    update_query += \"update products set name = '%s', description = '%s' where sku = '%s';\"%(updated_products['name'][i], updated_products['description'][i], updated_products['sku'][i])"
   ]
  },
  {
   "cell_type": "code",
   "execution_count": 49,
   "id": "9db0cc58",
   "metadata": {},
   "outputs": [
    {
     "data": {
      "text/plain": [
       "\"update products set name = 'Bryce Jobes', set description = 'Art community floor adult your single type. Per back community former stock thing.' where sku = 'lay-raise-best-end';\""
      ]
     },
     "execution_count": 49,
     "metadata": {},
     "output_type": "execute_result"
    }
   ],
   "source": [
    "update_query"
   ]
  },
  {
   "cell_type": "code",
   "execution_count": 53,
   "id": "9e6081b5",
   "metadata": {},
   "outputs": [
    {
     "data": {
      "text/plain": [
       "<sqlalchemy.engine.cursor.LegacyCursorResult at 0x21e1b7ff550>"
      ]
     },
     "execution_count": 53,
     "metadata": {},
     "output_type": "execute_result"
    }
   ],
   "source": [
    "engine.execute(update_query)"
   ]
  },
  {
   "cell_type": "code",
   "execution_count": 54,
   "id": "458f1481",
   "metadata": {},
   "outputs": [],
   "source": [
    "foo = engine.execute(\"select * from products where sku='lay-raise-best-end'\")"
   ]
  },
  {
   "cell_type": "code",
   "execution_count": 56,
   "id": "70794e1e",
   "metadata": {},
   "outputs": [
    {
     "data": {
      "text/plain": [
       "[('Bryce Jobes', 'lay-raise-best-end', 'Art community floor adult your single type. Per back community former stock thing.')]"
      ]
     },
     "execution_count": 56,
     "metadata": {},
     "output_type": "execute_result"
    }
   ],
   "source": [
    "foo.all()"
   ]
  },
  {
   "cell_type": "code",
   "execution_count": 57,
   "id": "7383af18",
   "metadata": {},
   "outputs": [],
   "source": [
    "foo = pd.DataFrame()"
   ]
  },
  {
   "cell_type": "code",
   "execution_count": 61,
   "id": "216ab88c",
   "metadata": {},
   "outputs": [
    {
     "name": "stdout",
     "output_type": "stream",
     "text": [
      "bar\n"
     ]
    }
   ],
   "source": [
    "if foo is not None:\n",
    "    print('bar')"
   ]
  }
 ],
 "metadata": {
  "kernelspec": {
   "display_name": "Python 3",
   "language": "python",
   "name": "python3"
  },
  "language_info": {
   "codemirror_mode": {
    "name": "ipython",
    "version": 3
   },
   "file_extension": ".py",
   "mimetype": "text/x-python",
   "name": "python",
   "nbconvert_exporter": "python",
   "pygments_lexer": "ipython3",
   "version": "3.8.8"
  }
 },
 "nbformat": 4,
 "nbformat_minor": 5
}
