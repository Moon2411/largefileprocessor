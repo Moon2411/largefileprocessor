{
 "cells": [
  {
   "cell_type": "markdown",
   "id": "351778bd",
   "metadata": {},
   "source": [
    "# Imports"
   ]
  },
  {
   "cell_type": "code",
   "execution_count": 14,
   "id": "247c8a62",
   "metadata": {},
   "outputs": [],
   "source": [
    "import pandas as pd\n",
    "from sqlalchemy import create_engine\n",
    "import json"
   ]
  },
  {
   "cell_type": "markdown",
   "id": "c53d985e",
   "metadata": {},
   "source": [
    "# Read the file"
   ]
  },
  {
   "cell_type": "code",
   "execution_count": 9,
   "id": "09defb48",
   "metadata": {},
   "outputs": [],
   "source": [
    "products = pd.read_csv(\"..\\..\\data\\products.csv\")"
   ]
  },
  {
   "cell_type": "code",
   "execution_count": 10,
   "id": "4a137979",
   "metadata": {},
   "outputs": [
    {
     "data": {
      "text/plain": [
       "(500000, 3)"
      ]
     },
     "execution_count": 10,
     "metadata": {},
     "output_type": "execute_result"
    }
   ],
   "source": [
    "products.shape"
   ]
  },
  {
   "cell_type": "code",
   "execution_count": 11,
   "id": "90e4aeaf",
   "metadata": {},
   "outputs": [
    {
     "data": {
      "text/html": [
       "<div>\n",
       "<style scoped>\n",
       "    .dataframe tbody tr th:only-of-type {\n",
       "        vertical-align: middle;\n",
       "    }\n",
       "\n",
       "    .dataframe tbody tr th {\n",
       "        vertical-align: top;\n",
       "    }\n",
       "\n",
       "    .dataframe thead th {\n",
       "        text-align: right;\n",
       "    }\n",
       "</style>\n",
       "<table border=\"1\" class=\"dataframe\">\n",
       "  <thead>\n",
       "    <tr style=\"text-align: right;\">\n",
       "      <th></th>\n",
       "      <th>name</th>\n",
       "      <th>sku</th>\n",
       "      <th>description</th>\n",
       "    </tr>\n",
       "  </thead>\n",
       "  <tbody>\n",
       "    <tr>\n",
       "      <th>0</th>\n",
       "      <td>Bryce Jones</td>\n",
       "      <td>lay-raise-best-end</td>\n",
       "      <td>Art community floor adult your single type. Pe...</td>\n",
       "    </tr>\n",
       "    <tr>\n",
       "      <th>1</th>\n",
       "      <td>John Robinson</td>\n",
       "      <td>cup-return-guess</td>\n",
       "      <td>Produce successful hot tree past action young ...</td>\n",
       "    </tr>\n",
       "    <tr>\n",
       "      <th>2</th>\n",
       "      <td>Theresa Taylor</td>\n",
       "      <td>step-onto</td>\n",
       "      <td>Choice should lead budget task. Author best me...</td>\n",
       "    </tr>\n",
       "    <tr>\n",
       "      <th>3</th>\n",
       "      <td>Roger Huerta</td>\n",
       "      <td>citizen-some-middle</td>\n",
       "      <td>Important fight wrong position fine. Friend so...</td>\n",
       "    </tr>\n",
       "    <tr>\n",
       "      <th>4</th>\n",
       "      <td>John Buckley</td>\n",
       "      <td>term-important</td>\n",
       "      <td>Alone maybe education risk despite way.\\nWant ...</td>\n",
       "    </tr>\n",
       "  </tbody>\n",
       "</table>\n",
       "</div>"
      ],
      "text/plain": [
       "             name                  sku  \\\n",
       "0     Bryce Jones   lay-raise-best-end   \n",
       "1   John Robinson     cup-return-guess   \n",
       "2  Theresa Taylor            step-onto   \n",
       "3    Roger Huerta  citizen-some-middle   \n",
       "4    John Buckley       term-important   \n",
       "\n",
       "                                         description  \n",
       "0  Art community floor adult your single type. Pe...  \n",
       "1  Produce successful hot tree past action young ...  \n",
       "2  Choice should lead budget task. Author best me...  \n",
       "3  Important fight wrong position fine. Friend so...  \n",
       "4  Alone maybe education risk despite way.\\nWant ...  "
      ]
     },
     "execution_count": 11,
     "metadata": {},
     "output_type": "execute_result"
    }
   ],
   "source": [
    "products.head()"
   ]
  },
  {
   "cell_type": "markdown",
   "id": "c7df0780",
   "metadata": {},
   "source": [
    "# Processing"
   ]
  },
  {
   "cell_type": "markdown",
   "id": "1ea3fbff",
   "metadata": {},
   "source": [
    "Given that \"sku\" is not unique but is to be considered as primary key:\n",
    "Assumption: We are following SCD 1 keeping the last record in file"
   ]
  },
  {
   "cell_type": "code",
   "execution_count": 12,
   "id": "aff3ef20",
   "metadata": {},
   "outputs": [],
   "source": [
    "products.drop_duplicates(subset=['sku'],keep='last',inplace=True)"
   ]
  },
  {
   "cell_type": "code",
   "execution_count": 13,
   "id": "64998de3",
   "metadata": {},
   "outputs": [
    {
     "data": {
      "text/plain": [
       "(466693, 3)"
      ]
     },
     "execution_count": 13,
     "metadata": {},
     "output_type": "execute_result"
    }
   ],
   "source": [
    "products.shape"
   ]
  },
  {
   "cell_type": "markdown",
   "id": "b2bece96",
   "metadata": {},
   "source": [
    "# Load"
   ]
  },
  {
   "cell_type": "markdown",
   "id": "04771477",
   "metadata": {},
   "source": [
    "## Read Config"
   ]
  },
  {
   "cell_type": "code",
   "execution_count": 15,
   "id": "b3852c44",
   "metadata": {},
   "outputs": [],
   "source": [
    "with open('../../config/config.json') as fp:\n",
    "    config = json.load(fp)\n",
    "# config"
   ]
  },
  {
   "cell_type": "markdown",
   "id": "fd672108",
   "metadata": {},
   "source": [
    "##  Create engine"
   ]
  },
  {
   "cell_type": "code",
   "execution_count": 17,
   "id": "10ea347b",
   "metadata": {},
   "outputs": [],
   "source": [
    "engine=create_engine(config['connection_strings']['dummy'])"
   ]
  },
  {
   "cell_type": "markdown",
   "id": "0c9f6a45",
   "metadata": {},
   "source": [
    "# Insert data"
   ]
  },
  {
   "cell_type": "code",
   "execution_count": 18,
   "id": "a74358a0",
   "metadata": {},
   "outputs": [],
   "source": [
    "products.to_sql('products',engine,if_exists='append',index=False)"
   ]
  },
  {
   "cell_type": "code",
   "execution_count": null,
   "id": "153d864f",
   "metadata": {},
   "outputs": [],
   "source": []
  }
 ],
 "metadata": {
  "kernelspec": {
   "display_name": "Python 3",
   "language": "python",
   "name": "python3"
  },
  "language_info": {
   "codemirror_mode": {
    "name": "ipython",
    "version": 3
   },
   "file_extension": ".py",
   "mimetype": "text/x-python",
   "name": "python",
   "nbconvert_exporter": "python",
   "pygments_lexer": "ipython3",
   "version": "3.8.8"
  }
 },
 "nbformat": 4,
 "nbformat_minor": 5
}
