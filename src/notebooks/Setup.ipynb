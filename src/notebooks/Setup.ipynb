{
 "cells": [
  {
   "cell_type": "markdown",
   "id": "2e351998",
   "metadata": {},
   "source": [
    "# Imports"
   ]
  },
  {
   "cell_type": "code",
   "execution_count": 1,
   "id": "b6d771d5",
   "metadata": {},
   "outputs": [],
   "source": [
    "import sqlite3\n",
    "import json"
   ]
  },
  {
   "cell_type": "markdown",
   "id": "f1188468",
   "metadata": {},
   "source": [
    "# Read Config"
   ]
  },
  {
   "cell_type": "code",
   "execution_count": 2,
   "id": "ffc08bae",
   "metadata": {},
   "outputs": [],
   "source": [
    "with open('../../config/config.json') as fp:\n",
    "    config = json.load(fp)\n",
    "# config"
   ]
  },
  {
   "cell_type": "markdown",
   "id": "c9ae8f8d",
   "metadata": {},
   "source": [
    "# Create Database"
   ]
  },
  {
   "cell_type": "code",
   "execution_count": 3,
   "id": "129cd234",
   "metadata": {},
   "outputs": [],
   "source": [
    "path = config['connection_strings']['dummy'].split('sqlite:///')[1]"
   ]
  },
  {
   "cell_type": "code",
   "execution_count": 4,
   "id": "bacf034d",
   "metadata": {},
   "outputs": [],
   "source": [
    "dbase=sqlite3.connect(path)"
   ]
  },
  {
   "cell_type": "markdown",
   "id": "6af39b43",
   "metadata": {},
   "source": [
    "# Create table"
   ]
  },
  {
   "cell_type": "code",
   "execution_count": 5,
   "id": "dcd311fb",
   "metadata": {},
   "outputs": [
    {
     "data": {
      "text/plain": [
       "<sqlite3.Cursor at 0x271cafaff80>"
      ]
     },
     "execution_count": 5,
     "metadata": {},
     "output_type": "execute_result"
    }
   ],
   "source": [
    "dbase.execute(\"\"\"Create Table IF NOT EXISTS products(\n",
    "                name nvarchar(50),\n",
    "                sku nvarchar(50) PRIMARY KEY,\n",
    "                description TEXT\n",
    ")\"\"\")"
   ]
  },
  {
   "cell_type": "code",
   "execution_count": 6,
   "id": "62816085",
   "metadata": {},
   "outputs": [],
   "source": [
    "dbase.close()"
   ]
  },
  {
   "cell_type": "code",
   "execution_count": null,
   "id": "eecb1cb6",
   "metadata": {},
   "outputs": [],
   "source": []
  }
 ],
 "metadata": {
  "kernelspec": {
   "display_name": "Python 3",
   "language": "python",
   "name": "python3"
  },
  "language_info": {
   "codemirror_mode": {
    "name": "ipython",
    "version": 3
   },
   "file_extension": ".py",
   "mimetype": "text/x-python",
   "name": "python",
   "nbconvert_exporter": "python",
   "pygments_lexer": "ipython3",
   "version": "3.8.8"
  }
 },
 "nbformat": 4,
 "nbformat_minor": 5
}
