{
 "cells": [
  {
   "cell_type": "markdown",
   "id": "ca0e09ff",
   "metadata": {},
   "source": [
    "# Imports"
   ]
  },
  {
   "cell_type": "code",
   "execution_count": 1,
   "id": "538b4206",
   "metadata": {},
   "outputs": [],
   "source": [
    "from sqlalchemy` import create_engine\n",
    "import json\n",
    "from datetime import datetime"
   ]
  },
  {
   "cell_type": "markdown",
   "id": "94c08f44",
   "metadata": {},
   "source": [
    "# Read Config"
   ]
  },
  {
   "cell_type": "code",
   "execution_count": 2,
   "id": "9d015a53",
   "metadata": {},
   "outputs": [],
   "source": [
    "with open('../../config/config.json') as fp:\n",
    "    config = json.load(fp)\n",
    "# config"
   ]
  },
  {
   "cell_type": "markdown",
   "id": "5334b8be",
   "metadata": {},
   "source": [
    "# Create engine"
   ]
  },
  {
   "cell_type": "code",
   "execution_count": 3,
   "id": "704dc103",
   "metadata": {},
   "outputs": [],
   "source": [
    "engine=create_engine(config['connection_strings']['dummy'])"
   ]
  },
  {
   "cell_type": "markdown",
   "id": "465f0a4b",
   "metadata": {},
   "source": [
    "# Create table"
   ]
  },
  {
   "cell_type": "code",
   "execution_count": 4,
   "id": "be07a72c",
   "metadata": {},
   "outputs": [],
   "source": [
    "timestamp = datetime.strftime(datetime.now(), format='%Y%m%d_%H%M%S')"
   ]
  },
  {
   "cell_type": "code",
   "execution_count": 5,
   "id": "3b1cfd1c",
   "metadata": {},
   "outputs": [],
   "source": [
    "create_query = f\"\"\"\n",
    "            create table product_agg_{timestamp}(\n",
    "            name nvarchar(50) PRIMARY KEY,\n",
    "            no_products INT);\n",
    "            \"\"\""
   ]
  },
  {
   "cell_type": "code",
   "execution_count": 6,
   "id": "4dae27c0",
   "metadata": {},
   "outputs": [
    {
     "data": {
      "text/plain": [
       "<sqlalchemy.engine.cursor.LegacyCursorResult at 0x2304f790580>"
      ]
     },
     "execution_count": 6,
     "metadata": {},
     "output_type": "execute_result"
    }
   ],
   "source": [
    "engine.execute(create_query)"
   ]
  },
  {
   "cell_type": "markdown",
   "id": "32c9ee84",
   "metadata": {},
   "source": [
    "# Aggregate data insertion"
   ]
  },
  {
   "cell_type": "code",
   "execution_count": 7,
   "id": "8d851979",
   "metadata": {},
   "outputs": [],
   "source": [
    "insert_query = f\"\"\"\n",
    "            insert into product_agg_{timestamp} (name, no_products) Select name, count(1) as no_products from products group by name;\"\"\""
   ]
  },
  {
   "cell_type": "code",
   "execution_count": 8,
   "id": "0f835243",
   "metadata": {},
   "outputs": [
    {
     "data": {
      "text/plain": [
       "<sqlalchemy.engine.cursor.LegacyCursorResult at 0x2304f790640>"
      ]
     },
     "execution_count": 8,
     "metadata": {},
     "output_type": "execute_result"
    }
   ],
   "source": [
    "engine.execute(insert_query)"
   ]
  },
  {
   "cell_type": "code",
   "execution_count": null,
   "id": "4d350f70",
   "metadata": {},
   "outputs": [],
   "source": []
  }
 ],
 "metadata": {
  "kernelspec": {
   "display_name": "Python 3",
   "language": "python",
   "name": "python3"
  },
  "language_info": {
   "codemirror_mode": {
    "name": "ipython",
    "version": 3
   },
   "file_extension": ".py",
   "mimetype": "text/x-python",
   "name": "python",
   "nbconvert_exporter": "python",
   "pygments_lexer": "ipython3",
   "version": "3.8.8"
  }
 },
 "nbformat": 4,
 "nbformat_minor": 5
}
